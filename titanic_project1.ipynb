{
 "cells": [
  {
   "cell_type": "code",
   "execution_count": 130,
   "metadata": {},
   "outputs": [],
   "source": [
    "import seaborn as sns\n",
    "import pandas as pd\n",
    "import numpy as np\n",
    "from sklearn.decomposition import PCA\n",
    "from matplotlib import pyplot as plt\n",
    "from sklearn.preprocessing import StandardScaler\n",
    "from sklearn.linear_model import LogisticRegression\n",
    "from sklearn.svm import SVC\n",
    "from sklearn.tree import DecisionTreeClassifier\n",
    "from sklearn.neighbors import KNeighborsClassifier\n",
    "from sklearn.metrics import accuracy_score,confusion_matrix,classification_report\n",
    "from sklearn.model_selection import train_test_split\n",
    "import warnings\n",
    "warnings.filterwarnings('ignore')\n"
   ]
  },
  {
   "cell_type": "code",
   "execution_count": 99,
   "metadata": {},
   "outputs": [],
   "source": [
    "data=pd.read_csv(\"titanic.csv\")"
   ]
  },
  {
   "cell_type": "code",
   "execution_count": 100,
   "metadata": {},
   "outputs": [
    {
     "data": {
      "text/html": [
       "<div>\n",
       "<style scoped>\n",
       "    .dataframe tbody tr th:only-of-type {\n",
       "        vertical-align: middle;\n",
       "    }\n",
       "\n",
       "    .dataframe tbody tr th {\n",
       "        vertical-align: top;\n",
       "    }\n",
       "\n",
       "    .dataframe thead th {\n",
       "        text-align: right;\n",
       "    }\n",
       "</style>\n",
       "<table border=\"1\" class=\"dataframe\">\n",
       "  <thead>\n",
       "    <tr style=\"text-align: right;\">\n",
       "      <th></th>\n",
       "      <th>PassengerId</th>\n",
       "      <th>Passengers</th>\n",
       "      <th>Class</th>\n",
       "      <th>Name</th>\n",
       "      <th>Sex</th>\n",
       "      <th>Age</th>\n",
       "      <th>SibSp</th>\n",
       "      <th>Parch</th>\n",
       "      <th>Ticket</th>\n",
       "      <th>Fare</th>\n",
       "      <th>Cabin</th>\n",
       "      <th>Embarked</th>\n",
       "    </tr>\n",
       "  </thead>\n",
       "  <tbody>\n",
       "    <tr>\n",
       "      <th>0</th>\n",
       "      <td>1</td>\n",
       "      <td>Perished</td>\n",
       "      <td>3</td>\n",
       "      <td>Braund, Mr. Owen Harris</td>\n",
       "      <td>male</td>\n",
       "      <td>19 - 40</td>\n",
       "      <td>1</td>\n",
       "      <td>0</td>\n",
       "      <td>A/5 21171</td>\n",
       "      <td>7.2500</td>\n",
       "      <td>NaN</td>\n",
       "      <td>S</td>\n",
       "    </tr>\n",
       "    <tr>\n",
       "      <th>1</th>\n",
       "      <td>2</td>\n",
       "      <td>Survived</td>\n",
       "      <td>1</td>\n",
       "      <td>Cumings, Mrs. John Bradley (Florence Briggs Th...</td>\n",
       "      <td>female</td>\n",
       "      <td>19 - 40</td>\n",
       "      <td>1</td>\n",
       "      <td>0</td>\n",
       "      <td>PC 17599</td>\n",
       "      <td>71.2833</td>\n",
       "      <td>C85</td>\n",
       "      <td>C</td>\n",
       "    </tr>\n",
       "    <tr>\n",
       "      <th>2</th>\n",
       "      <td>3</td>\n",
       "      <td>Survived</td>\n",
       "      <td>3</td>\n",
       "      <td>Heikkinen, Miss. Laina</td>\n",
       "      <td>female</td>\n",
       "      <td>19 - 40</td>\n",
       "      <td>0</td>\n",
       "      <td>0</td>\n",
       "      <td>STON/O2. 3101282</td>\n",
       "      <td>7.9250</td>\n",
       "      <td>NaN</td>\n",
       "      <td>S</td>\n",
       "    </tr>\n",
       "    <tr>\n",
       "      <th>3</th>\n",
       "      <td>4</td>\n",
       "      <td>Survived</td>\n",
       "      <td>1</td>\n",
       "      <td>Futrelle, Mrs. Jacques Heath (Lily May Peel)</td>\n",
       "      <td>female</td>\n",
       "      <td>19 - 40</td>\n",
       "      <td>1</td>\n",
       "      <td>0</td>\n",
       "      <td>113803</td>\n",
       "      <td>53.1000</td>\n",
       "      <td>C123</td>\n",
       "      <td>S</td>\n",
       "    </tr>\n",
       "    <tr>\n",
       "      <th>4</th>\n",
       "      <td>5</td>\n",
       "      <td>Perished</td>\n",
       "      <td>3</td>\n",
       "      <td>Allen, Mr. William Henry</td>\n",
       "      <td>male</td>\n",
       "      <td>19 - 40</td>\n",
       "      <td>0</td>\n",
       "      <td>0</td>\n",
       "      <td>373450</td>\n",
       "      <td>8.0500</td>\n",
       "      <td>NaN</td>\n",
       "      <td>S</td>\n",
       "    </tr>\n",
       "    <tr>\n",
       "      <th>...</th>\n",
       "      <td>...</td>\n",
       "      <td>...</td>\n",
       "      <td>...</td>\n",
       "      <td>...</td>\n",
       "      <td>...</td>\n",
       "      <td>...</td>\n",
       "      <td>...</td>\n",
       "      <td>...</td>\n",
       "      <td>...</td>\n",
       "      <td>...</td>\n",
       "      <td>...</td>\n",
       "      <td>...</td>\n",
       "    </tr>\n",
       "    <tr>\n",
       "      <th>1041</th>\n",
       "      <td>1301</td>\n",
       "      <td>Survived</td>\n",
       "      <td>3</td>\n",
       "      <td>Peacock, Miss. Treasteall</td>\n",
       "      <td>female</td>\n",
       "      <td>Under 18</td>\n",
       "      <td>1</td>\n",
       "      <td>1</td>\n",
       "      <td>SOTON/O.Q. 3101315</td>\n",
       "      <td>13.7750</td>\n",
       "      <td>NaN</td>\n",
       "      <td>S</td>\n",
       "    </tr>\n",
       "    <tr>\n",
       "      <th>1042</th>\n",
       "      <td>1303</td>\n",
       "      <td>Survived</td>\n",
       "      <td>1</td>\n",
       "      <td>Minahan, Mrs. William Edward (Lillian E Thorpe)</td>\n",
       "      <td>female</td>\n",
       "      <td>19 - 40</td>\n",
       "      <td>1</td>\n",
       "      <td>0</td>\n",
       "      <td>19928</td>\n",
       "      <td>90.0000</td>\n",
       "      <td>C78</td>\n",
       "      <td>Q</td>\n",
       "    </tr>\n",
       "    <tr>\n",
       "      <th>1043</th>\n",
       "      <td>1304</td>\n",
       "      <td>Survived</td>\n",
       "      <td>3</td>\n",
       "      <td>Henriksson, Miss. Jenny Lovisa</td>\n",
       "      <td>female</td>\n",
       "      <td>19 - 40</td>\n",
       "      <td>0</td>\n",
       "      <td>0</td>\n",
       "      <td>347086</td>\n",
       "      <td>7.7750</td>\n",
       "      <td>NaN</td>\n",
       "      <td>S</td>\n",
       "    </tr>\n",
       "    <tr>\n",
       "      <th>1044</th>\n",
       "      <td>1306</td>\n",
       "      <td>Survived</td>\n",
       "      <td>1</td>\n",
       "      <td>Oliva y Ocana, Dona. Fermina</td>\n",
       "      <td>female</td>\n",
       "      <td>19 - 40</td>\n",
       "      <td>0</td>\n",
       "      <td>0</td>\n",
       "      <td>PC 17758</td>\n",
       "      <td>108.9000</td>\n",
       "      <td>C105</td>\n",
       "      <td>C</td>\n",
       "    </tr>\n",
       "    <tr>\n",
       "      <th>1045</th>\n",
       "      <td>1307</td>\n",
       "      <td>Perished</td>\n",
       "      <td>3</td>\n",
       "      <td>Saether, Mr. Simon Sivertsen</td>\n",
       "      <td>male</td>\n",
       "      <td>19 - 40</td>\n",
       "      <td>0</td>\n",
       "      <td>0</td>\n",
       "      <td>SOTON/O.Q. 3101262</td>\n",
       "      <td>7.2500</td>\n",
       "      <td>NaN</td>\n",
       "      <td>S</td>\n",
       "    </tr>\n",
       "  </tbody>\n",
       "</table>\n",
       "<p>1046 rows × 12 columns</p>\n",
       "</div>"
      ],
      "text/plain": [
       "      PassengerId Passengers  Class  \\\n",
       "0               1   Perished      3   \n",
       "1               2   Survived      1   \n",
       "2               3   Survived      3   \n",
       "3               4   Survived      1   \n",
       "4               5   Perished      3   \n",
       "...           ...        ...    ...   \n",
       "1041         1301   Survived      3   \n",
       "1042         1303   Survived      1   \n",
       "1043         1304   Survived      3   \n",
       "1044         1306   Survived      1   \n",
       "1045         1307   Perished      3   \n",
       "\n",
       "                                                   Name     Sex       Age  \\\n",
       "0                               Braund, Mr. Owen Harris    male   19 - 40   \n",
       "1     Cumings, Mrs. John Bradley (Florence Briggs Th...  female   19 - 40   \n",
       "2                                Heikkinen, Miss. Laina  female   19 - 40   \n",
       "3          Futrelle, Mrs. Jacques Heath (Lily May Peel)  female   19 - 40   \n",
       "4                              Allen, Mr. William Henry    male   19 - 40   \n",
       "...                                                 ...     ...       ...   \n",
       "1041                          Peacock, Miss. Treasteall  female  Under 18   \n",
       "1042    Minahan, Mrs. William Edward (Lillian E Thorpe)  female   19 - 40   \n",
       "1043                     Henriksson, Miss. Jenny Lovisa  female   19 - 40   \n",
       "1044                       Oliva y Ocana, Dona. Fermina  female   19 - 40   \n",
       "1045                       Saether, Mr. Simon Sivertsen    male   19 - 40   \n",
       "\n",
       "      SibSp  Parch              Ticket      Fare Cabin Embarked  \n",
       "0         1      0           A/5 21171    7.2500   NaN        S  \n",
       "1         1      0            PC 17599   71.2833   C85        C  \n",
       "2         0      0    STON/O2. 3101282    7.9250   NaN        S  \n",
       "3         1      0              113803   53.1000  C123        S  \n",
       "4         0      0              373450    8.0500   NaN        S  \n",
       "...     ...    ...                 ...       ...   ...      ...  \n",
       "1041      1      1  SOTON/O.Q. 3101315   13.7750   NaN        S  \n",
       "1042      1      0               19928   90.0000   C78        Q  \n",
       "1043      0      0              347086    7.7750   NaN        S  \n",
       "1044      0      0            PC 17758  108.9000  C105        C  \n",
       "1045      0      0  SOTON/O.Q. 3101262    7.2500   NaN        S  \n",
       "\n",
       "[1046 rows x 12 columns]"
      ]
     },
     "execution_count": 100,
     "metadata": {},
     "output_type": "execute_result"
    }
   ],
   "source": [
    "data=pd.DataFrame(data=data)\n",
    "data"
   ]
  },
  {
   "cell_type": "code",
   "execution_count": 101,
   "metadata": {},
   "outputs": [
    {
     "data": {
      "text/plain": [
       "PassengerId      0\n",
       "Passengers       0\n",
       "Class            0\n",
       "Name             0\n",
       "Sex              0\n",
       "Age              0\n",
       "SibSp            0\n",
       "Parch            0\n",
       "Ticket           0\n",
       "Fare             1\n",
       "Cabin          774\n",
       "Embarked         2\n",
       "dtype: int64"
      ]
     },
     "execution_count": 101,
     "metadata": {},
     "output_type": "execute_result"
    }
   ],
   "source": [
    "data.isnull().sum()"
   ]
  },
  {
   "cell_type": "code",
   "execution_count": 102,
   "metadata": {},
   "outputs": [
    {
     "data": {
      "text/plain": [
       "Index(['PassengerId', 'Passengers', 'Class', 'Name', 'Sex', 'Age', 'SibSp',\n",
       "       'Parch', 'Ticket', 'Fare', 'Cabin', 'Embarked'],\n",
       "      dtype='object')"
      ]
     },
     "execution_count": 102,
     "metadata": {},
     "output_type": "execute_result"
    }
   ],
   "source": [
    "data.columns"
   ]
  },
  {
   "cell_type": "code",
   "execution_count": 103,
   "metadata": {},
   "outputs": [],
   "source": [
    "data['Cabin'].fillna(data.Cabin.mode()[0], inplace=True)"
   ]
  },
  {
   "cell_type": "code",
   "execution_count": 104,
   "metadata": {},
   "outputs": [],
   "source": [
    "data['Embarked'].fillna(data.Embarked.mode()[0], inplace=True)"
   ]
  },
  {
   "cell_type": "code",
   "execution_count": 105,
   "metadata": {},
   "outputs": [],
   "source": [
    "data['Fare'].fillna(data.Fare.mean(), inplace=True)"
   ]
  },
  {
   "cell_type": "code",
   "execution_count": 106,
   "metadata": {},
   "outputs": [
    {
     "data": {
      "text/plain": [
       "PassengerId    0\n",
       "Passengers     0\n",
       "Class          0\n",
       "Name           0\n",
       "Sex            0\n",
       "Age            0\n",
       "SibSp          0\n",
       "Parch          0\n",
       "Ticket         0\n",
       "Fare           0\n",
       "Cabin          0\n",
       "Embarked       0\n",
       "dtype: int64"
      ]
     },
     "execution_count": 106,
     "metadata": {},
     "output_type": "execute_result"
    }
   ],
   "source": [
    "data.isnull().sum()"
   ]
  },
  {
   "cell_type": "code",
   "execution_count": 107,
   "metadata": {},
   "outputs": [],
   "source": [
    "data.drop(['PassengerId','Name','Ticket'],axis='columns',inplace=True)"
   ]
  },
  {
   "cell_type": "code",
   "execution_count": 108,
   "metadata": {},
   "outputs": [
    {
     "data": {
      "text/html": [
       "<div>\n",
       "<style scoped>\n",
       "    .dataframe tbody tr th:only-of-type {\n",
       "        vertical-align: middle;\n",
       "    }\n",
       "\n",
       "    .dataframe tbody tr th {\n",
       "        vertical-align: top;\n",
       "    }\n",
       "\n",
       "    .dataframe thead th {\n",
       "        text-align: right;\n",
       "    }\n",
       "</style>\n",
       "<table border=\"1\" class=\"dataframe\">\n",
       "  <thead>\n",
       "    <tr style=\"text-align: right;\">\n",
       "      <th></th>\n",
       "      <th>Passengers</th>\n",
       "      <th>Class</th>\n",
       "      <th>Sex</th>\n",
       "      <th>Age</th>\n",
       "      <th>SibSp</th>\n",
       "      <th>Parch</th>\n",
       "      <th>Fare</th>\n",
       "      <th>Cabin</th>\n",
       "      <th>Embarked</th>\n",
       "    </tr>\n",
       "  </thead>\n",
       "  <tbody>\n",
       "    <tr>\n",
       "      <th>0</th>\n",
       "      <td>Perished</td>\n",
       "      <td>3</td>\n",
       "      <td>male</td>\n",
       "      <td>19 - 40</td>\n",
       "      <td>1</td>\n",
       "      <td>0</td>\n",
       "      <td>7.2500</td>\n",
       "      <td>C23 C25 C27</td>\n",
       "      <td>S</td>\n",
       "    </tr>\n",
       "    <tr>\n",
       "      <th>1</th>\n",
       "      <td>Survived</td>\n",
       "      <td>1</td>\n",
       "      <td>female</td>\n",
       "      <td>19 - 40</td>\n",
       "      <td>1</td>\n",
       "      <td>0</td>\n",
       "      <td>71.2833</td>\n",
       "      <td>C85</td>\n",
       "      <td>C</td>\n",
       "    </tr>\n",
       "    <tr>\n",
       "      <th>2</th>\n",
       "      <td>Survived</td>\n",
       "      <td>3</td>\n",
       "      <td>female</td>\n",
       "      <td>19 - 40</td>\n",
       "      <td>0</td>\n",
       "      <td>0</td>\n",
       "      <td>7.9250</td>\n",
       "      <td>C23 C25 C27</td>\n",
       "      <td>S</td>\n",
       "    </tr>\n",
       "    <tr>\n",
       "      <th>3</th>\n",
       "      <td>Survived</td>\n",
       "      <td>1</td>\n",
       "      <td>female</td>\n",
       "      <td>19 - 40</td>\n",
       "      <td>1</td>\n",
       "      <td>0</td>\n",
       "      <td>53.1000</td>\n",
       "      <td>C123</td>\n",
       "      <td>S</td>\n",
       "    </tr>\n",
       "    <tr>\n",
       "      <th>4</th>\n",
       "      <td>Perished</td>\n",
       "      <td>3</td>\n",
       "      <td>male</td>\n",
       "      <td>19 - 40</td>\n",
       "      <td>0</td>\n",
       "      <td>0</td>\n",
       "      <td>8.0500</td>\n",
       "      <td>C23 C25 C27</td>\n",
       "      <td>S</td>\n",
       "    </tr>\n",
       "    <tr>\n",
       "      <th>...</th>\n",
       "      <td>...</td>\n",
       "      <td>...</td>\n",
       "      <td>...</td>\n",
       "      <td>...</td>\n",
       "      <td>...</td>\n",
       "      <td>...</td>\n",
       "      <td>...</td>\n",
       "      <td>...</td>\n",
       "      <td>...</td>\n",
       "    </tr>\n",
       "    <tr>\n",
       "      <th>1041</th>\n",
       "      <td>Survived</td>\n",
       "      <td>3</td>\n",
       "      <td>female</td>\n",
       "      <td>Under 18</td>\n",
       "      <td>1</td>\n",
       "      <td>1</td>\n",
       "      <td>13.7750</td>\n",
       "      <td>C23 C25 C27</td>\n",
       "      <td>S</td>\n",
       "    </tr>\n",
       "    <tr>\n",
       "      <th>1042</th>\n",
       "      <td>Survived</td>\n",
       "      <td>1</td>\n",
       "      <td>female</td>\n",
       "      <td>19 - 40</td>\n",
       "      <td>1</td>\n",
       "      <td>0</td>\n",
       "      <td>90.0000</td>\n",
       "      <td>C78</td>\n",
       "      <td>Q</td>\n",
       "    </tr>\n",
       "    <tr>\n",
       "      <th>1043</th>\n",
       "      <td>Survived</td>\n",
       "      <td>3</td>\n",
       "      <td>female</td>\n",
       "      <td>19 - 40</td>\n",
       "      <td>0</td>\n",
       "      <td>0</td>\n",
       "      <td>7.7750</td>\n",
       "      <td>C23 C25 C27</td>\n",
       "      <td>S</td>\n",
       "    </tr>\n",
       "    <tr>\n",
       "      <th>1044</th>\n",
       "      <td>Survived</td>\n",
       "      <td>1</td>\n",
       "      <td>female</td>\n",
       "      <td>19 - 40</td>\n",
       "      <td>0</td>\n",
       "      <td>0</td>\n",
       "      <td>108.9000</td>\n",
       "      <td>C105</td>\n",
       "      <td>C</td>\n",
       "    </tr>\n",
       "    <tr>\n",
       "      <th>1045</th>\n",
       "      <td>Perished</td>\n",
       "      <td>3</td>\n",
       "      <td>male</td>\n",
       "      <td>19 - 40</td>\n",
       "      <td>0</td>\n",
       "      <td>0</td>\n",
       "      <td>7.2500</td>\n",
       "      <td>C23 C25 C27</td>\n",
       "      <td>S</td>\n",
       "    </tr>\n",
       "  </tbody>\n",
       "</table>\n",
       "<p>1046 rows × 9 columns</p>\n",
       "</div>"
      ],
      "text/plain": [
       "     Passengers  Class     Sex       Age  SibSp  Parch      Fare        Cabin  \\\n",
       "0      Perished      3    male   19 - 40      1      0    7.2500  C23 C25 C27   \n",
       "1      Survived      1  female   19 - 40      1      0   71.2833          C85   \n",
       "2      Survived      3  female   19 - 40      0      0    7.9250  C23 C25 C27   \n",
       "3      Survived      1  female   19 - 40      1      0   53.1000         C123   \n",
       "4      Perished      3    male   19 - 40      0      0    8.0500  C23 C25 C27   \n",
       "...         ...    ...     ...       ...    ...    ...       ...          ...   \n",
       "1041   Survived      3  female  Under 18      1      1   13.7750  C23 C25 C27   \n",
       "1042   Survived      1  female   19 - 40      1      0   90.0000          C78   \n",
       "1043   Survived      3  female   19 - 40      0      0    7.7750  C23 C25 C27   \n",
       "1044   Survived      1  female   19 - 40      0      0  108.9000         C105   \n",
       "1045   Perished      3    male   19 - 40      0      0    7.2500  C23 C25 C27   \n",
       "\n",
       "     Embarked  \n",
       "0           S  \n",
       "1           C  \n",
       "2           S  \n",
       "3           S  \n",
       "4           S  \n",
       "...       ...  \n",
       "1041        S  \n",
       "1042        Q  \n",
       "1043        S  \n",
       "1044        C  \n",
       "1045        S  \n",
       "\n",
       "[1046 rows x 9 columns]"
      ]
     },
     "execution_count": 108,
     "metadata": {},
     "output_type": "execute_result"
    }
   ],
   "source": [
    "data"
   ]
  },
  {
   "cell_type": "code",
   "execution_count": 109,
   "metadata": {},
   "outputs": [],
   "source": [
    "from sklearn.preprocessing import LabelEncoder\n",
    "le=LabelEncoder()\n",
    "list=['Passengers','Sex','Age','Cabin','Embarked']\n",
    "for val in list:\n",
    "    data[val]=le.fit_transform(data[val].astype(str))"
   ]
  },
  {
   "cell_type": "code",
   "execution_count": 110,
   "metadata": {},
   "outputs": [
    {
     "data": {
      "text/html": [
       "<div>\n",
       "<style scoped>\n",
       "    .dataframe tbody tr th:only-of-type {\n",
       "        vertical-align: middle;\n",
       "    }\n",
       "\n",
       "    .dataframe tbody tr th {\n",
       "        vertical-align: top;\n",
       "    }\n",
       "\n",
       "    .dataframe thead th {\n",
       "        text-align: right;\n",
       "    }\n",
       "</style>\n",
       "<table border=\"1\" class=\"dataframe\">\n",
       "  <thead>\n",
       "    <tr style=\"text-align: right;\">\n",
       "      <th></th>\n",
       "      <th>Passengers</th>\n",
       "      <th>Class</th>\n",
       "      <th>Sex</th>\n",
       "      <th>Age</th>\n",
       "      <th>SibSp</th>\n",
       "      <th>Parch</th>\n",
       "      <th>Fare</th>\n",
       "      <th>Cabin</th>\n",
       "      <th>Embarked</th>\n",
       "    </tr>\n",
       "  </thead>\n",
       "  <tbody>\n",
       "    <tr>\n",
       "      <th>0</th>\n",
       "      <td>0</td>\n",
       "      <td>3</td>\n",
       "      <td>1</td>\n",
       "      <td>0</td>\n",
       "      <td>1</td>\n",
       "      <td>0</td>\n",
       "      <td>7.2500</td>\n",
       "      <td>75</td>\n",
       "      <td>2</td>\n",
       "    </tr>\n",
       "    <tr>\n",
       "      <th>1</th>\n",
       "      <td>1</td>\n",
       "      <td>1</td>\n",
       "      <td>0</td>\n",
       "      <td>0</td>\n",
       "      <td>1</td>\n",
       "      <td>0</td>\n",
       "      <td>71.2833</td>\n",
       "      <td>100</td>\n",
       "      <td>0</td>\n",
       "    </tr>\n",
       "    <tr>\n",
       "      <th>2</th>\n",
       "      <td>1</td>\n",
       "      <td>3</td>\n",
       "      <td>0</td>\n",
       "      <td>0</td>\n",
       "      <td>0</td>\n",
       "      <td>0</td>\n",
       "      <td>7.9250</td>\n",
       "      <td>75</td>\n",
       "      <td>2</td>\n",
       "    </tr>\n",
       "    <tr>\n",
       "      <th>3</th>\n",
       "      <td>1</td>\n",
       "      <td>1</td>\n",
       "      <td>0</td>\n",
       "      <td>0</td>\n",
       "      <td>1</td>\n",
       "      <td>0</td>\n",
       "      <td>53.1000</td>\n",
       "      <td>66</td>\n",
       "      <td>2</td>\n",
       "    </tr>\n",
       "    <tr>\n",
       "      <th>4</th>\n",
       "      <td>0</td>\n",
       "      <td>3</td>\n",
       "      <td>1</td>\n",
       "      <td>0</td>\n",
       "      <td>0</td>\n",
       "      <td>0</td>\n",
       "      <td>8.0500</td>\n",
       "      <td>75</td>\n",
       "      <td>2</td>\n",
       "    </tr>\n",
       "    <tr>\n",
       "      <th>...</th>\n",
       "      <td>...</td>\n",
       "      <td>...</td>\n",
       "      <td>...</td>\n",
       "      <td>...</td>\n",
       "      <td>...</td>\n",
       "      <td>...</td>\n",
       "      <td>...</td>\n",
       "      <td>...</td>\n",
       "      <td>...</td>\n",
       "    </tr>\n",
       "    <tr>\n",
       "      <th>1041</th>\n",
       "      <td>1</td>\n",
       "      <td>3</td>\n",
       "      <td>0</td>\n",
       "      <td>2</td>\n",
       "      <td>1</td>\n",
       "      <td>1</td>\n",
       "      <td>13.7750</td>\n",
       "      <td>75</td>\n",
       "      <td>2</td>\n",
       "    </tr>\n",
       "    <tr>\n",
       "      <th>1042</th>\n",
       "      <td>1</td>\n",
       "      <td>1</td>\n",
       "      <td>0</td>\n",
       "      <td>0</td>\n",
       "      <td>1</td>\n",
       "      <td>0</td>\n",
       "      <td>90.0000</td>\n",
       "      <td>96</td>\n",
       "      <td>1</td>\n",
       "    </tr>\n",
       "    <tr>\n",
       "      <th>1043</th>\n",
       "      <td>1</td>\n",
       "      <td>3</td>\n",
       "      <td>0</td>\n",
       "      <td>0</td>\n",
       "      <td>0</td>\n",
       "      <td>0</td>\n",
       "      <td>7.7750</td>\n",
       "      <td>75</td>\n",
       "      <td>2</td>\n",
       "    </tr>\n",
       "    <tr>\n",
       "      <th>1044</th>\n",
       "      <td>1</td>\n",
       "      <td>1</td>\n",
       "      <td>0</td>\n",
       "      <td>0</td>\n",
       "      <td>0</td>\n",
       "      <td>0</td>\n",
       "      <td>108.9000</td>\n",
       "      <td>60</td>\n",
       "      <td>0</td>\n",
       "    </tr>\n",
       "    <tr>\n",
       "      <th>1045</th>\n",
       "      <td>0</td>\n",
       "      <td>3</td>\n",
       "      <td>1</td>\n",
       "      <td>0</td>\n",
       "      <td>0</td>\n",
       "      <td>0</td>\n",
       "      <td>7.2500</td>\n",
       "      <td>75</td>\n",
       "      <td>2</td>\n",
       "    </tr>\n",
       "  </tbody>\n",
       "</table>\n",
       "<p>1046 rows × 9 columns</p>\n",
       "</div>"
      ],
      "text/plain": [
       "      Passengers  Class  Sex  Age  SibSp  Parch      Fare  Cabin  Embarked\n",
       "0              0      3    1    0      1      0    7.2500     75         2\n",
       "1              1      1    0    0      1      0   71.2833    100         0\n",
       "2              1      3    0    0      0      0    7.9250     75         2\n",
       "3              1      1    0    0      1      0   53.1000     66         2\n",
       "4              0      3    1    0      0      0    8.0500     75         2\n",
       "...          ...    ...  ...  ...    ...    ...       ...    ...       ...\n",
       "1041           1      3    0    2      1      1   13.7750     75         2\n",
       "1042           1      1    0    0      1      0   90.0000     96         1\n",
       "1043           1      3    0    0      0      0    7.7750     75         2\n",
       "1044           1      1    0    0      0      0  108.9000     60         0\n",
       "1045           0      3    1    0      0      0    7.2500     75         2\n",
       "\n",
       "[1046 rows x 9 columns]"
      ]
     },
     "execution_count": 110,
     "metadata": {},
     "output_type": "execute_result"
    }
   ],
   "source": [
    "data\n"
   ]
  },
  {
   "cell_type": "code",
   "execution_count": 111,
   "metadata": {},
   "outputs": [
    {
     "data": {
      "image/png": "[encoded data removed]",
      "text/plain": [
       "<Figure size 576x648 with 2 Axes>"
      ]
     },
     "metadata": {
      "needs_background": "light"
     },
     "output_type": "display_data"
    }
   ],
   "source": [
    "# correlation heatmap\n",
    "import seaborn as sns\n",
    "corr_hmap=data.corr()\n",
    "plt.figure(figsize=(8,9))\n",
    "sns.heatmap(corr_hmap,annot=True)\n",
    "plt.show()\n"
   ]
  },
  {
   "cell_type": "code",
   "execution_count": 112,
   "metadata": {},
   "outputs": [],
   "source": [
    "#removing outliers\n",
    "from scipy.stats import zscore"
   ]
  },
  {
   "cell_type": "code",
   "execution_count": 113,
   "metadata": {},
   "outputs": [
    {
     "name": "stdout",
     "output_type": "stream",
     "text": [
      "(array([   9,   12,   15,   22,   23,   36,   44,   49,   51,   54,   58,\n",
      "         66,   67,   93,   94,  119,  132,  134,  137,  145,  146,  154,\n",
      "        163,  188,  202,  208,  210,  211,  214,  223,  241,  248,  272,\n",
      "        273,  274,  278,  288,  301,  304,  309,  316,  350,  351,  351,\n",
      "        370,  383,  411,  429,  430,  443,  449,  462,  463,  482,  487,\n",
      "        505,  523,  536,  537,  540,  543,  546,  554,  555,  568,  569,\n",
      "        576,  581,  586,  587,  589,  616,  617,  620,  627,  646,  650,\n",
      "        660,  678,  686,  709,  736,  736,  759,  760,  762,  763,  768,\n",
      "        772,  772,  777,  778,  783,  802,  806,  808,  825,  826,  828,\n",
      "        828,  837,  839,  852,  856,  856,  861,  875,  885,  888,  891,\n",
      "        965,  966,  968,  970,  984,  995,  998, 1011, 1015, 1040],\n",
      "      dtype=int64), array([7, 5, 4, 5, 6, 4, 4, 7, 4, 4, 7, 5, 6, 6, 4, 7, 4, 5, 4, 4, 7, 7,\n",
      "       7, 4, 7, 6, 4, 7, 4, 4, 6, 6, 7, 7, 6, 7, 5, 6, 6, 4, 7, 5, 5, 6,\n",
      "       7, 4, 7, 4, 4, 7, 5, 7, 7, 5, 7, 5, 7, 5, 6, 4, 4, 6, 7, 6, 7, 6,\n",
      "       7, 6, 5, 6, 6, 7, 5, 6, 4, 7, 4, 4, 4, 5, 5, 5, 6, 6, 4, 7, 6, 6,\n",
      "       5, 6, 6, 6, 6, 7, 6, 7, 5, 4, 5, 6, 4, 6, 5, 5, 7, 6, 6, 4, 6, 7,\n",
      "       7, 7, 6, 7, 6, 7, 4, 6, 4, 6], dtype=int64))\n"
     ]
    }
   ],
   "source": [
    "z=np.abs(zscore(data))\n",
    "threshold=3\n",
    "print(np.where(z>3))"
   ]
  },
  {
   "cell_type": "code",
   "execution_count": 114,
   "metadata": {},
   "outputs": [],
   "source": [
    "data_new=data[(z<3).all(axis=1)] "
   ]
  },
  {
   "cell_type": "code",
   "execution_count": 115,
   "metadata": {},
   "outputs": [
    {
     "name": "stdout",
     "output_type": "stream",
     "text": [
      "(1046, 9)\n",
      "(931, 9)\n"
     ]
    }
   ],
   "source": [
    "print(data.shape)\n",
    "print(data_new.shape)"
   ]
  },
  {
   "cell_type": "code",
   "execution_count": 116,
   "metadata": {},
   "outputs": [
    {
     "data": {
      "text/plain": [
       "(931, 9)"
      ]
     },
     "execution_count": 116,
     "metadata": {},
     "output_type": "execute_result"
    }
   ],
   "source": [
    "data=data_new\n",
    "data.shape"
   ]
  },
  {
   "cell_type": "code",
   "execution_count": 117,
   "metadata": {},
   "outputs": [
    {
     "data": {
      "text/plain": [
       "Passengers    0.466137\n",
       "Class        -0.440920\n",
       "Sex          -0.619352\n",
       "Age           0.987512\n",
       "SibSp         1.777378\n",
       "Parch         1.946038\n",
       "Fare          2.168981\n",
       "Cabin         0.588185\n",
       "Embarked     -1.327568\n",
       "dtype: float64"
      ]
     },
     "execution_count": 117,
     "metadata": {},
     "output_type": "execute_result"
    }
   ],
   "source": [
    "data.skew()"
   ]
  },
  {
   "cell_type": "code",
   "execution_count": 118,
   "metadata": {},
   "outputs": [],
   "source": [
    "# treating skewness using log\n",
    "\n",
    "for col in data.columns:\n",
    "    if data.skew().loc[col]>0.55:\n",
    "        data[col]=np.log1p(data[col])"
   ]
  },
  {
   "cell_type": "code",
   "execution_count": 119,
   "metadata": {},
   "outputs": [
    {
     "data": {
      "text/plain": [
       "Passengers    0.466137\n",
       "Class        -0.440920\n",
       "Sex          -0.619352\n",
       "Age           0.987512\n",
       "SibSp         1.127702\n",
       "Parch         1.661700\n",
       "Fare          0.412725\n",
       "Cabin         0.588185\n",
       "Embarked     -1.327568\n",
       "dtype: float64"
      ]
     },
     "execution_count": 119,
     "metadata": {},
     "output_type": "execute_result"
    }
   ],
   "source": [
    "data.skew()"
   ]
  },
  {
   "cell_type": "code",
   "execution_count": 123,
   "metadata": {},
   "outputs": [],
   "source": [
    "data1=data.drop(columns=['Passengers'])\n",
    "x=data1\n",
    "y=data['Passengers']"
   ]
  },
  {
   "cell_type": "code",
   "execution_count": 132,
   "metadata": {},
   "outputs": [
    {
     "name": "stdout",
     "output_type": "stream",
     "text": [
      "Accuracy Score:  0.8536585365853658 at random state:  37\n",
      "Accuracy Score:  0.848780487804878 at random state:  38\n",
      "Accuracy Score:  0.8 at random state:  39\n",
      "Accuracy Score:  0.8341463414634146 at random state:  40\n",
      "Accuracy Score:  0.8975609756097561 at random state:  41\n",
      "Accuracy Score:  0.8439024390243902 at random state:  42\n",
      "Accuracy Score:  0.8390243902439024 at random state:  43\n",
      "Accuracy Score:  0.8585365853658536 at random state:  44\n",
      "Accuracy Score:  0.8585365853658536 at random state:  45\n",
      "Accuracy Score:  0.8634146341463415 at random state:  46\n",
      "Accuracy Score:  0.8536585365853658 at random state:  47\n",
      "Accuracy Score:  0.8439024390243902 at random state:  48\n",
      "Accuracy Score:  0.8682926829268293 at random state:  49\n",
      "Accuracy Score:  0.8097560975609757 at random state:  50\n",
      "Accuracy Score:  0.848780487804878 at random state:  51\n",
      "Accuracy Score:  0.8536585365853658 at random state:  52\n",
      "Accuracy Score:  0.848780487804878 at random state:  53\n",
      "Accuracy Score:  0.8682926829268293 at random state:  54\n",
      "Accuracy Score:  0.8292682926829268 at random state:  55\n",
      "Accuracy Score:  0.8048780487804879 at random state:  56\n",
      "Accuracy Score:  0.7902439024390244 at random state:  57\n",
      "Accuracy Score:  0.848780487804878 at random state:  58\n",
      "Accuracy Score:  0.8682926829268293 at random state:  59\n",
      "Accuracy Score:  0.8390243902439024 at random state:  60\n",
      "Accuracy Score:  0.8195121951219512 at random state:  61\n",
      "Accuracy Score:  0.8536585365853658 at random state:  62\n",
      "Accuracy Score:  0.8585365853658536 at random state:  63\n",
      "Accuracy Score:  0.8439024390243902 at random state:  64\n",
      "Accuracy Score:  0.7902439024390244 at random state:  65\n",
      "Accuracy Score:  0.8439024390243902 at random state:  66\n",
      "Accuracy Score:  0.8292682926829268 at random state:  67\n",
      "Accuracy Score:  0.8634146341463415 at random state:  68\n",
      "Accuracy Score:  0.8439024390243902 at random state:  69\n",
      "Accuracy Score:  0.8878048780487805 at random state:  70\n",
      "Accuracy Score:  0.8634146341463415 at random state:  71\n",
      "Accuracy Score:  0.8097560975609757 at random state:  72\n",
      "Accuracy Score:  0.8634146341463415 at random state:  73\n",
      "Accuracy Score:  0.8634146341463415 at random state:  74\n",
      "Accuracy Score:  0.8634146341463415 at random state:  75\n",
      "Accuracy Score:  0.8585365853658536 at random state:  76\n",
      "Accuracy Score:  0.8390243902439024 at random state:  77\n",
      "Accuracy Score:  0.8048780487804879 at random state:  78\n",
      "Accuracy Score:  0.8682926829268293 at random state:  79\n",
      "Accuracy Score:  0.8097560975609757 at random state:  80\n",
      "Accuracy Score:  0.8195121951219512 at random state:  81\n",
      "Accuracy Score:  0.8731707317073171 at random state:  82\n",
      "Accuracy Score:  0.848780487804878 at random state:  83\n",
      "Accuracy Score:  0.8195121951219512 at random state:  84\n",
      "Accuracy Score:  0.8585365853658536 at random state:  85\n",
      "Accuracy Score:  0.8585365853658536 at random state:  86\n",
      "Accuracy Score:  0.8195121951219512 at random state:  87\n",
      "Accuracy Score:  0.8829268292682927 at random state:  88\n",
      "Accuracy Score:  0.8439024390243902 at random state:  89\n",
      "Accuracy Score:  0.8829268292682927 at random state:  90\n",
      "Accuracy Score:  0.8390243902439024 at random state:  91\n",
      "Accuracy Score:  0.8292682926829268 at random state:  92\n",
      "Accuracy Score:  0.8341463414634146 at random state:  93\n",
      "Accuracy Score:  0.8 at random state:  94\n",
      "Accuracy Score:  0.8536585365853658 at random state:  95\n",
      "Accuracy Score:  0.8536585365853658 at random state:  96\n",
      "Accuracy Score:  0.8731707317073171 at random state:  97\n",
      "Accuracy Score:  0.8341463414634146 at random state:  98\n",
      "Accuracy Score:  0.8439024390243902 at random state:  99\n",
      "Accuracy Score:  0.8292682926829268 at random state:  100\n",
      "Maximimum Accuracy Score is 0.8975609756097561 at 41\n"
     ]
    }
   ],
   "source": [
    "max_score=0\n",
    "\n",
    "for r_state in range(37,101):\n",
    "    x_train,x_test,y_train,y_test=train_test_split(x,y,test_size=.22,random_state=r_state)\n",
    "    lg=LogisticRegression()\n",
    "    lg.fit(x_train,y_train)\n",
    "    pred=lg.predict(x_test)\n",
    "    score=accuracy_score(y_test,pred)\n",
    "    print(\"Accuracy Score: \",score,\"at random state: \",r_state)\n",
    "    if score>max_score:\n",
    "        max_score=score\n",
    "        final_r_state=r_state\n",
    "print(\"Maximimum Accuracy Score is\",max_score,'at',final_r_state)"
   ]
  },
  {
   "cell_type": "code",
   "execution_count": 134,
   "metadata": {},
   "outputs": [],
   "source": [
    "x_train,x_test,y_train,y_test=train_test_split(x,y,test_size=.22,random_state=41)\n",
    "    "
   ]
  },
  {
   "cell_type": "code",
   "execution_count": 138,
   "metadata": {},
   "outputs": [
    {
     "name": "stdout",
     "output_type": "stream",
     "text": [
      "Accuracy Score:  0.8975609756097561\n",
      "\n",
      "\n",
      "Confusion Matrix [[120   9]\n",
      " [ 12  64]]\n",
      "\n",
      "\n",
      "classification report               precision    recall  f1-score   support\n",
      "\n",
      "           0       0.91      0.93      0.92       129\n",
      "           1       0.88      0.84      0.86        76\n",
      "\n",
      "    accuracy                           0.90       205\n",
      "   macro avg       0.89      0.89      0.89       205\n",
      "weighted avg       0.90      0.90      0.90       205\n",
      "\n"
     ]
    }
   ],
   "source": [
    "lg=LogisticRegression()\n",
    "lg.fit(x_train,y_train)\n",
    "pred=lg.predict(x_test)\n",
    "print(\"Accuracy Score: \",accuracy_score(y_test,pred))\n",
    "print('\\n')\n",
    "print('Confusion Matrix',confusion_matrix(y_test,pred))\n",
    "print('\\n')\n",
    "print('classification report',classification_report(y_test,pred))\n"
   ]
  },
  {
   "cell_type": "code",
   "execution_count": 143,
   "metadata": {},
   "outputs": [],
   "source": [
    "def svmkernel(ker):\n",
    "    svc=SVC(kernel=ker)\n",
    "    svc.fit(x_train,y_train)\n",
    "    svc.score(x_train,y_train)\n",
    "    predsvc=svc.predict(x_test)\n",
    "    print(accuracy_score(y_test,predsvc))\n",
    "    print(confusion_matrix(y_test,predsvc))\n",
    "    print(classification_report(y_test,predsvc))\n"
   ]
  },
  {
   "cell_type": "code",
   "execution_count": 144,
   "metadata": {},
   "outputs": [
    {
     "name": "stdout",
     "output_type": "stream",
     "text": [
      "0.6439024390243903\n",
      "[[116  13]\n",
      " [ 60  16]]\n",
      "              precision    recall  f1-score   support\n",
      "\n",
      "           0       0.66      0.90      0.76       129\n",
      "           1       0.55      0.21      0.30        76\n",
      "\n",
      "    accuracy                           0.64       205\n",
      "   macro avg       0.61      0.55      0.53       205\n",
      "weighted avg       0.62      0.64      0.59       205\n",
      "\n"
     ]
    }
   ],
   "source": [
    "svmkernel('rbf')"
   ]
  },
  {
   "cell_type": "code",
   "execution_count": 145,
   "metadata": {},
   "outputs": [
    {
     "name": "stdout",
     "output_type": "stream",
     "text": [
      "0.6487804878048781\n",
      "[[123   6]\n",
      " [ 66  10]]\n",
      "              precision    recall  f1-score   support\n",
      "\n",
      "           0       0.65      0.95      0.77       129\n",
      "           1       0.62      0.13      0.22        76\n",
      "\n",
      "    accuracy                           0.65       205\n",
      "   macro avg       0.64      0.54      0.50       205\n",
      "weighted avg       0.64      0.65      0.57       205\n",
      "\n"
     ]
    }
   ],
   "source": [
    "svmkernel('poly')"
   ]
  },
  {
   "cell_type": "code",
   "execution_count": 146,
   "metadata": {},
   "outputs": [
    {
     "name": "stdout",
     "output_type": "stream",
     "text": [
      "0.8439024390243902\n",
      "[[109  20]\n",
      " [ 12  64]]\n",
      "              precision    recall  f1-score   support\n",
      "\n",
      "           0       0.90      0.84      0.87       129\n",
      "           1       0.76      0.84      0.80        76\n",
      "\n",
      "    accuracy                           0.84       205\n",
      "   macro avg       0.83      0.84      0.84       205\n",
      "weighted avg       0.85      0.84      0.85       205\n",
      "\n"
     ]
    }
   ],
   "source": [
    "knn=KNeighborsClassifier()\n",
    "knn.fit(x_train,y_train)\n",
    "knn.score(x_train,y_train)\n",
    "predknn=knn.predict(x_test)\n",
    "print(accuracy_score(y_test,predknn))\n",
    "print(confusion_matrix(y_test,predknn))\n",
    "print(classification_report(y_test,predknn))\n"
   ]
  },
  {
   "cell_type": "code",
   "execution_count": 147,
   "metadata": {},
   "outputs": [
    {
     "name": "stdout",
     "output_type": "stream",
     "text": [
      "0.8195121951219512\n",
      "[[109  20]\n",
      " [ 17  59]]\n",
      "              precision    recall  f1-score   support\n",
      "\n",
      "           0       0.87      0.84      0.85       129\n",
      "           1       0.75      0.78      0.76        76\n",
      "\n",
      "    accuracy                           0.82       205\n",
      "   macro avg       0.81      0.81      0.81       205\n",
      "weighted avg       0.82      0.82      0.82       205\n",
      "\n"
     ]
    }
   ],
   "source": [
    "dtc=DecisionTreeClassifier()\n",
    "dtc.fit(x_train,y_train)\n",
    "dtc.score(x_train,y_train)\n",
    "preddtc=dtc.predict(x_test)\n",
    "print(accuracy_score(y_test,preddtc))\n",
    "print(confusion_matrix(y_test,preddtc))\n",
    "print(classification_report(y_test,preddtc))\n"
   ]
  },
  {
   "cell_type": "code",
   "execution_count": 149,
   "metadata": {},
   "outputs": [
    {
     "name": "stdout",
     "output_type": "stream",
     "text": [
      "[0.80748663 0.7688172  0.78494624 0.90322581 0.96774194]\n",
      "0.8464435627623483 0.07650220076895131\n"
     ]
    }
   ],
   "source": [
    "#cross validation\n",
    "\n",
    "from sklearn.model_selection import cross_val_score\n",
    "\n",
    "scores=cross_val_score(lg,x,y,cv=5)\n",
    "print(scores)\n",
    "print(scores.mean(),scores.std())"
   ]
  },
  {
   "cell_type": "code",
   "execution_count": 150,
   "metadata": {},
   "outputs": [
    {
     "data": {
      "text/plain": [
       "['titanic.pkl']"
      ]
     },
     "execution_count": 150,
     "metadata": {},
     "output_type": "execute_result"
    }
   ],
   "source": [
    "# saving the model\n",
    "\n",
    "import joblib\n",
    "joblib.dump(lg,'titanic.pkl') "
   ]
  },
  {
   "cell_type": "code",
   "execution_count": null,
   "metadata": {},
   "outputs": [],
   "source": []
  }
 ],
 "metadata": {
  "kernelspec": {
   "display_name": "Python 3",
   "language": "python",
   "name": "python3"
  },
  "language_info": {
   "codemirror_mode": {
    "name": "ipython",
    "version": 3
   },
   "file_extension": ".py",
   "mimetype": "text/x-python",
   "name": "python",
   "nbconvert_exporter": "python",
   "pygments_lexer": "ipython3",
   "version": "3.8.3"
  }
 },
 "nbformat": 4,
 "nbformat_minor": 4
}
